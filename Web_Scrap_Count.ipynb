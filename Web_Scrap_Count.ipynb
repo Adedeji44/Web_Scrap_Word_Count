{
 "cells": [
  {
   "cell_type": "code",
   "execution_count": 1,
   "id": "45b0eaf1",
   "metadata": {},
   "outputs": [],
   "source": [
    "import requests\n",
    "from bs4 import BeautifulSoup\n",
    "from collections import Counter\n",
    "from string import punctuation\n",
    "import re\n",
    "import nltk\n",
    "from nltk.corpus import stopwords"
   ]
  },
  {
   "cell_type": "code",
   "execution_count": 2,
   "id": "f4290b7b",
   "metadata": {},
   "outputs": [
    {
     "name": "stdout",
     "output_type": "stream",
     "text": [
      "{'/insurance/capabilities/claims/workers-compensation-claims-management/', '/property-intelligence/', '/careers/people/', '/energy/', 'https://www.youtube.com/c/Verisk_VRSK/', 'https://products.iso.com/', 'tel:1-800-888-4476', '/careers/talent-opportunities/', '/property-estimating-solutions/', '/about/inclusion-diversity-belonging/', '/', '/insurance/markets/agents-mgas-brokers/', '/insurance/leadership/', '/insurance/capabilities/weather-risk/flood/', '/50-years/', '/insurance/capabilities/underwriting/', '/verisk-marketing-solutions/', '/insurance/products/enterprise-exposure-manager/', '/csr/', 'https://www.3eco.com/', '/careers/benefits/', '#onetrust-pc-btn-handler', 'https://www.verisksequel.com/', '#', '/insurance/', '/insurance/webinars/', 'https://twitter.com/verisk', 'https://www.maplecroft.com/', 'https://www.air-worldwide.com/', '/supply-chain/', '/en-ca/', '/insurance/capabilities/reinsurance/', '/insurance/markets/excess-and-surplus/', 'https://alumni.verisk.com/', '/contact-verisk/', '/newsroom/', '/insurance/visualize/', 'https://www.linkedin.com/company/verisk-analytics', None, 'https://www.aer.com/', '/privacy-trademarks-use/verisk-analytics-conditions-of-use/', '/about/', '/construction-and-remodeling/', '/careers/', '/careers/culture/', '/en-gb/', '/insurance/capabilities/claims/', '/about/strategic-alliances/', 'tel:800 48977489', '/real-estate/', '/csr/social/verisk-analytics-statement-on-modern-slavery/', '/privacy-trademarks-use/', 'https://www.facebook.com/VeriskAnalytics', '/transportation-employment-screening/', '#mainContent', 'https://investor.verisk.com/overview/default.aspx', '/insurance/conferences/', 'https://www.verisk.com/newsroom/verisk-announces-sale-of-3e-business-to-new-mountain-capital/', 'https://www.isomitigation.com/', 'https://investor.verisk.com/overview/default.aspx?_ga=2.116063493.2033395514.1576453820-608127677.1531921156', '/insurance/life-insurance/', '/insurance/about/speakers-bureau/', '/about/leadership/', '/insurance/capabilities/weather-risk/', 'https://events.verisk.com/Br5PkL?rt=WUDwXBM8PUKk3EoCBebOKg&RefId=CONF'}\n"
     ]
    }
   ],
   "source": [
    "# To get Main and Sub page links\n",
    "\n",
    "base_url = 'https://www.verisk.com/'\n",
    "reqs = requests.get(base_url)\n",
    "soup = BeautifulSoup(reqs.text, 'html.parser')\n",
    "\n",
    "# Set to automatically de-duplicate items\n",
    "urls = set()\n",
    "\n",
    "for link in soup.find_all('a'):\n",
    "    urls.add(link.get('href'))\n",
    "    \n",
    "print(urls)"
   ]
  },
  {
   "cell_type": "code",
   "execution_count": 3,
   "id": "86541b8e",
   "metadata": {},
   "outputs": [],
   "source": [
    "urls.remove(None)"
   ]
  },
  {
   "cell_type": "code",
   "execution_count": 4,
   "id": "0eb541d4",
   "metadata": {},
   "outputs": [
    {
     "data": {
      "text/plain": [
       "['/insurance/capabilities/claims/workers-compensation-claims-management/',\n",
       " '/careers/people/',\n",
       " '/energy/',\n",
       " '/careers/talent-opportunities/',\n",
       " '/property-estimating-solutions/',\n",
       " '/about/inclusion-diversity-belonging/',\n",
       " '/',\n",
       " '/insurance/markets/agents-mgas-brokers/',\n",
       " '/insurance/leadership/',\n",
       " '/insurance/capabilities/weather-risk/flood/',\n",
       " '/50-years/',\n",
       " '/insurance/capabilities/underwriting/',\n",
       " '/verisk-marketing-solutions/',\n",
       " '/insurance/products/enterprise-exposure-manager/',\n",
       " '/csr/',\n",
       " '/careers/benefits/',\n",
       " 'https://www.verisksequel.com/',\n",
       " '/insurance/',\n",
       " '/insurance/webinars/',\n",
       " 'https://twitter.com/verisk',\n",
       " '/supply-chain/',\n",
       " '/insurance/capabilities/reinsurance/',\n",
       " '/insurance/markets/excess-and-surplus/',\n",
       " 'https://alumni.verisk.com/',\n",
       " '/contact-verisk/',\n",
       " '/newsroom/',\n",
       " '/insurance/visualize/',\n",
       " 'https://www.linkedin.com/company/verisk-analytics',\n",
       " '/privacy-trademarks-use/verisk-analytics-conditions-of-use/',\n",
       " '/about/',\n",
       " '/construction-and-remodeling/',\n",
       " '/careers/',\n",
       " '/careers/culture/',\n",
       " '/insurance/capabilities/claims/',\n",
       " '/about/strategic-alliances/',\n",
       " '/real-estate/',\n",
       " '/csr/social/verisk-analytics-statement-on-modern-slavery/',\n",
       " '/privacy-trademarks-use/',\n",
       " '/transportation-employment-screening/',\n",
       " 'https://investor.verisk.com/overview/default.aspx',\n",
       " '/insurance/conferences/',\n",
       " 'https://www.verisk.com/newsroom/verisk-announces-sale-of-3e-business-to-new-mountain-capital/',\n",
       " 'https://investor.verisk.com/overview/default.aspx?_ga=2.116063493.2033395514.1576453820-608127677.1531921156',\n",
       " '/insurance/life-insurance/',\n",
       " '/insurance/about/speakers-bureau/',\n",
       " '/about/leadership/',\n",
       " '/insurance/capabilities/weather-risk/',\n",
       " 'https://events.verisk.com/Br5PkL?rt=WUDwXBM8PUKk3EoCBebOKg&RefId=CONF']"
      ]
     },
     "execution_count": 4,
     "metadata": {},
     "output_type": "execute_result"
    }
   ],
   "source": [
    "# filtering unwanted urls\n",
    "\n",
    "urls_list = []\n",
    "for i in urls:\n",
    "    if not ((\"https\" in i) and (\"verisk\" not in i)):\n",
    "        urls_list.append(i)\n",
    "\n",
    "urls_list_new = []\n",
    "for i in urls_list:\n",
    "    if not ((\"#\" in i) or (\"en-\" in i) or (\"tel\" in i)):\n",
    "        urls_list_new.append(i)\n",
    "urls_list_new"
   ]
  },
  {
   "cell_type": "code",
   "execution_count": 5,
   "id": "77655c8a",
   "metadata": {},
   "outputs": [
    {
     "name": "stdout",
     "output_type": "stream",
     "text": [
      "verisk: 556\n",
      "insurance: 552\n",
      "solutions: 523\n",
      "leadership: 320\n",
      "business: 265\n",
      "us: 264\n",
      "contact: 227\n",
      "life: 209\n",
      "risk: 205\n",
      "property: 200\n",
      "claims: 198\n",
      "’: 191\n",
      "social: 178\n",
      "data: 177\n",
      "thought: 169\n",
      "back: 157\n",
      "markets: 153\n",
      "marketing: 150\n",
      "strategic: 150\n",
      "iso: 149\n"
     ]
    }
   ],
   "source": [
    "# loop through all links and count the words in their content\n",
    "word_counts = Counter()\n",
    "\n",
    "for page in urls_list_new:\n",
    "    if page[0] == \"/\":\n",
    "        specific_url = base_url + page # requests.get does not care about the num of '/'\n",
    "    else:\n",
    "        specific_url = page\n",
    "    html = requests.get(specific_url).text\n",
    "    soup = BeautifulSoup(html, \"html.parser\")\n",
    "    text = soup.get_text()\n",
    "    words = nltk.word_tokenize(text.lower())\n",
    "    words = [word for word in words if word not in stopwords.words(\"english\") and word not in punctuation]\n",
    "    #words = re.findall(\"\\w+\", text.lower())\n",
    "    word_counts.update(words)\n",
    "     \n",
    "# print the top 10 most frequent words\n",
    "for word, count in word_counts.most_common(20):\n",
    "    print(f\"{word}: {count}\")\n"
   ]
  },
  {
   "cell_type": "code",
   "execution_count": 6,
   "id": "f8fe69f2",
   "metadata": {},
   "outputs": [
    {
     "data": {
      "text/plain": [
       "{'verisk': 556,\n",
       " 'insurance': 552,\n",
       " 'solutions': 523,\n",
       " 'leadership': 320,\n",
       " 'business': 265,\n",
       " 'us': 264,\n",
       " 'contact': 227,\n",
       " 'life': 209,\n",
       " 'risk': 205,\n",
       " 'property': 200,\n",
       " 'claims': 198,\n",
       " '’': 191,\n",
       " 'social': 178,\n",
       " 'data': 177,\n",
       " 'thought': 169,\n",
       " 'back': 157,\n",
       " 'markets': 153,\n",
       " 'marketing': 150,\n",
       " 'strategic': 150,\n",
       " 'iso': 149}"
      ]
     },
     "execution_count": 6,
     "metadata": {},
     "output_type": "execute_result"
    }
   ],
   "source": [
    "data = dict(word_counts.most_common(20))\n",
    "data"
   ]
  },
  {
   "cell_type": "code",
   "execution_count": 7,
   "id": "98ad920e",
   "metadata": {},
   "outputs": [],
   "source": [
    "import pandas as pd\n"
   ]
  },
  {
   "cell_type": "code",
   "execution_count": 8,
   "id": "3b269511",
   "metadata": {},
   "outputs": [
    {
     "data": {
      "text/html": [
       "<div>\n",
       "<style scoped>\n",
       "    .dataframe tbody tr th:only-of-type {\n",
       "        vertical-align: middle;\n",
       "    }\n",
       "\n",
       "    .dataframe tbody tr th {\n",
       "        vertical-align: top;\n",
       "    }\n",
       "\n",
       "    .dataframe thead th {\n",
       "        text-align: right;\n",
       "    }\n",
       "</style>\n",
       "<table border=\"1\" class=\"dataframe\">\n",
       "  <thead>\n",
       "    <tr style=\"text-align: right;\">\n",
       "      <th></th>\n",
       "      <th>word</th>\n",
       "      <th>count</th>\n",
       "    </tr>\n",
       "  </thead>\n",
       "  <tbody>\n",
       "    <tr>\n",
       "      <th>0</th>\n",
       "      <td>verisk</td>\n",
       "      <td>556</td>\n",
       "    </tr>\n",
       "    <tr>\n",
       "      <th>1</th>\n",
       "      <td>insurance</td>\n",
       "      <td>552</td>\n",
       "    </tr>\n",
       "    <tr>\n",
       "      <th>2</th>\n",
       "      <td>solutions</td>\n",
       "      <td>523</td>\n",
       "    </tr>\n",
       "    <tr>\n",
       "      <th>3</th>\n",
       "      <td>leadership</td>\n",
       "      <td>320</td>\n",
       "    </tr>\n",
       "    <tr>\n",
       "      <th>4</th>\n",
       "      <td>business</td>\n",
       "      <td>265</td>\n",
       "    </tr>\n",
       "    <tr>\n",
       "      <th>5</th>\n",
       "      <td>us</td>\n",
       "      <td>264</td>\n",
       "    </tr>\n",
       "    <tr>\n",
       "      <th>6</th>\n",
       "      <td>contact</td>\n",
       "      <td>227</td>\n",
       "    </tr>\n",
       "    <tr>\n",
       "      <th>7</th>\n",
       "      <td>life</td>\n",
       "      <td>209</td>\n",
       "    </tr>\n",
       "    <tr>\n",
       "      <th>8</th>\n",
       "      <td>risk</td>\n",
       "      <td>205</td>\n",
       "    </tr>\n",
       "    <tr>\n",
       "      <th>9</th>\n",
       "      <td>property</td>\n",
       "      <td>200</td>\n",
       "    </tr>\n",
       "    <tr>\n",
       "      <th>10</th>\n",
       "      <td>claims</td>\n",
       "      <td>198</td>\n",
       "    </tr>\n",
       "    <tr>\n",
       "      <th>11</th>\n",
       "      <td>’</td>\n",
       "      <td>191</td>\n",
       "    </tr>\n",
       "    <tr>\n",
       "      <th>12</th>\n",
       "      <td>social</td>\n",
       "      <td>178</td>\n",
       "    </tr>\n",
       "    <tr>\n",
       "      <th>13</th>\n",
       "      <td>data</td>\n",
       "      <td>177</td>\n",
       "    </tr>\n",
       "    <tr>\n",
       "      <th>14</th>\n",
       "      <td>thought</td>\n",
       "      <td>169</td>\n",
       "    </tr>\n",
       "    <tr>\n",
       "      <th>15</th>\n",
       "      <td>back</td>\n",
       "      <td>157</td>\n",
       "    </tr>\n",
       "    <tr>\n",
       "      <th>16</th>\n",
       "      <td>markets</td>\n",
       "      <td>153</td>\n",
       "    </tr>\n",
       "    <tr>\n",
       "      <th>17</th>\n",
       "      <td>marketing</td>\n",
       "      <td>150</td>\n",
       "    </tr>\n",
       "    <tr>\n",
       "      <th>18</th>\n",
       "      <td>strategic</td>\n",
       "      <td>150</td>\n",
       "    </tr>\n",
       "    <tr>\n",
       "      <th>19</th>\n",
       "      <td>iso</td>\n",
       "      <td>149</td>\n",
       "    </tr>\n",
       "  </tbody>\n",
       "</table>\n",
       "</div>"
      ],
      "text/plain": [
       "          word  count\n",
       "0       verisk    556\n",
       "1    insurance    552\n",
       "2    solutions    523\n",
       "3   leadership    320\n",
       "4     business    265\n",
       "5           us    264\n",
       "6      contact    227\n",
       "7         life    209\n",
       "8         risk    205\n",
       "9     property    200\n",
       "10      claims    198\n",
       "11           ’    191\n",
       "12      social    178\n",
       "13        data    177\n",
       "14     thought    169\n",
       "15        back    157\n",
       "16     markets    153\n",
       "17   marketing    150\n",
       "18   strategic    150\n",
       "19         iso    149"
      ]
     },
     "execution_count": 8,
     "metadata": {},
     "output_type": "execute_result"
    }
   ],
   "source": [
    "data_df = pd.DataFrame.from_dict(data, orient='index')\n",
    "data_df = data_df.reset_index()\n",
    "data_df.columns = ['word','count']\n",
    "data_df\n"
   ]
  },
  {
   "cell_type": "code",
   "execution_count": 9,
   "id": "e6d3b706",
   "metadata": {},
   "outputs": [
    {
     "data": {
      "text/plain": [
       "<AxesSubplot:xlabel='word'>"
      ]
     },
     "execution_count": 9,
     "metadata": {},
     "output_type": "execute_result"
    },
    {
     "data": {
      "image/png": "[encoded data removed]",
      "text/plain": [
       "<Figure size 432x288 with 1 Axes>"
      ]
     },
     "metadata": {
      "needs_background": "light"
     },
     "output_type": "display_data"
    }
   ],
   "source": [
    "# import matplotlib library\n",
    "import matplotlib.pyplot as plt\n",
    "\n",
    "  \n",
    "# plotting graph\n",
    "data_df.plot(x=\"word\", y=[\"count\"], kind=\"bar\")"
   ]
  },
  {
   "cell_type": "markdown",
   "id": "ac727c92",
   "metadata": {},
   "source": [
    "**Observation:**\n",
    "\n",
    "- The 5 most common words are **verisk, insurance, solutions, leadership, business**."
   ]
  },
  {
   "cell_type": "code",
   "execution_count": null,
   "id": "819c43ab",
   "metadata": {},
   "outputs": [],
   "source": []
  }
 ],
 "metadata": {
  "kernelspec": {
   "display_name": "Python 3 (ipykernel)",
   "language": "python",
   "name": "python3"
  },
  "language_info": {
   "codemirror_mode": {
    "name": "ipython",
    "version": 3
   },
   "file_extension": ".py",
   "mimetype": "text/x-python",
   "name": "python",
   "nbconvert_exporter": "python",
   "pygments_lexer": "ipython3",
   "version": "3.9.12"
  }
 },
 "nbformat": 4,
 "nbformat_minor": 5
}
